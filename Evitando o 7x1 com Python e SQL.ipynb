{
 "cells": [
  {
   "cell_type": "markdown",
   "id": "38e70fff",
   "metadata": {},
   "source": [
    "### Evitando o 7x1 com Python e SQL"
   ]
  },
  {
   "cell_type": "markdown",
   "id": "97083e25",
   "metadata": {},
   "source": [
    "#### 1. Estrutura com os Grupos e Seleções, além de seus respectivos scores (Ranking FIFA)"
   ]
  },
  {
   "cell_type": "code",
   "execution_count": 2,
   "id": "7898f1e7",
   "metadata": {
    "scrolled": false
   },
   "outputs": [
    {
     "data": {
      "text/html": [
       "<div>\n",
       "<style scoped>\n",
       "    .dataframe tbody tr th:only-of-type {\n",
       "        vertical-align: middle;\n",
       "    }\n",
       "\n",
       "    .dataframe tbody tr th {\n",
       "        vertical-align: top;\n",
       "    }\n",
       "\n",
       "    .dataframe thead th {\n",
       "        text-align: right;\n",
       "    }\n",
       "</style>\n",
       "<table border=\"1\" class=\"dataframe\">\n",
       "  <thead>\n",
       "    <tr style=\"text-align: right;\">\n",
       "      <th></th>\n",
       "      <th>A</th>\n",
       "      <th>B</th>\n",
       "      <th>C</th>\n",
       "      <th>D</th>\n",
       "      <th>E</th>\n",
       "      <th>F</th>\n",
       "      <th>G</th>\n",
       "      <th>H</th>\n",
       "    </tr>\n",
       "  </thead>\n",
       "  <tbody>\n",
       "    <tr>\n",
       "      <th>0</th>\n",
       "      <td>CAT|1442.0</td>\n",
       "      <td>EUA|1635.0</td>\n",
       "      <td>ARG|1770.7</td>\n",
       "      <td>AUS|1483.7</td>\n",
       "      <td>ALE|1659.0</td>\n",
       "      <td>BEL|1821.9</td>\n",
       "      <td>BRA|1837.6</td>\n",
       "      <td>COR|1526.0</td>\n",
       "    </tr>\n",
       "    <tr>\n",
       "      <th>1</th>\n",
       "      <td>EQU|1463.7</td>\n",
       "      <td>ING|1737.5</td>\n",
       "      <td>ARA|1435.7</td>\n",
       "      <td>DIN|1665.5</td>\n",
       "      <td>COS|1500.1</td>\n",
       "      <td>CAN|1473.8</td>\n",
       "      <td>CAM|1485.0</td>\n",
       "      <td>GAN|1393.5</td>\n",
       "    </tr>\n",
       "    <tr>\n",
       "      <th>2</th>\n",
       "      <td>HOL|1679.4</td>\n",
       "      <td>IRA|1558.6</td>\n",
       "      <td>MEX|1649.6</td>\n",
       "      <td>FRA|1764.9</td>\n",
       "      <td>ESP|1716.9</td>\n",
       "      <td>CRO|1632.2</td>\n",
       "      <td>SUI|1621.4</td>\n",
       "      <td>POR|1678.7</td>\n",
       "    </tr>\n",
       "    <tr>\n",
       "      <th>3</th>\n",
       "      <td>SEN|1584.6</td>\n",
       "      <td>GAL|1582.1</td>\n",
       "      <td>POL|1546.2</td>\n",
       "      <td>TUN|1507.9</td>\n",
       "      <td>JAP|1554.7</td>\n",
       "      <td>MAR|1558.4</td>\n",
       "      <td>SER|1549.5</td>\n",
       "      <td>URU|1641.0</td>\n",
       "    </tr>\n",
       "  </tbody>\n",
       "</table>\n",
       "</div>"
      ],
      "text/plain": [
       "            A           B           C           D           E           F  \\\n",
       "0  CAT|1442.0  EUA|1635.0  ARG|1770.7  AUS|1483.7  ALE|1659.0  BEL|1821.9   \n",
       "1  EQU|1463.7  ING|1737.5  ARA|1435.7  DIN|1665.5  COS|1500.1  CAN|1473.8   \n",
       "2  HOL|1679.4  IRA|1558.6  MEX|1649.6  FRA|1764.9  ESP|1716.9  CRO|1632.2   \n",
       "3  SEN|1584.6  GAL|1582.1  POL|1546.2  TUN|1507.9  JAP|1554.7  MAR|1558.4   \n",
       "\n",
       "            G           H  \n",
       "0  BRA|1837.6  COR|1526.0  \n",
       "1  CAM|1485.0  GAN|1393.5  \n",
       "2  SUI|1621.4  POR|1678.7  \n",
       "3  SER|1549.5  URU|1641.0  "
      ]
     },
     "execution_count": 2,
     "metadata": {},
     "output_type": "execute_result"
    }
   ],
   "source": [
    "import pandas as pd\n",
    "\n",
    "df = pd.read_csv('https://raw.githubusercontent.com/digitalinnovationone/live-coding-evitando-o-7x1-com-python-e-sql/main/data.csv')\n",
    "df.head()"
   ]
  },
  {
   "cell_type": "markdown",
   "id": "2747a9e3",
   "metadata": {},
   "source": [
    "#### 2. Classe que representa um time, com suas características e comportamentos:"
   ]
  },
  {
   "cell_type": "code",
   "execution_count": 10,
   "id": "c1361da5",
   "metadata": {},
   "outputs": [],
   "source": [
    "import random\n",
    "\n",
    "class Team:\n",
    "    BEST_SCORE = 1837.6 # Brasil (BRA)\n",
    "\n",
    "        # Definir um construtor com os atributos adequados (tendo em vista o conteúdo de uma célula do CSV)\n",
    "    def __init__(self, cellData):\n",
    "        teamData = cellData.split('|')\n",
    "        self.name = teamData[0]\n",
    "        self.score = float(teamData[1])\n",
    "    \n",
    "    def motivate(self):\n",
    "        \"\"\" \n",
    "        A pior seleção da copa (GAN, segundo a FIFA) têm 1393.5 de score, o qual equivale a 75% do melhor score (BRA).\n",
    "        Sendo assim, para que a aleatoriedade não seja tão determinante, podemos definir um intervalo inicial próximo de 75.\n",
    "\n",
    "        Por exemplo, GAN poderia ter valores entre 70~75 (aproximadamente). Por outro lado, BRA teria 70~100 (maior chance de vitória).\n",
    "        1837.6 (BRA) ----- 100\n",
    "        1393.5 (GAN) -----  X\n",
    "        \"\"\"\n",
    "        self.lastMotivation = random.uniform(70, (self.score * 100) / Team.BEST_SCORE)\n",
    "        return self.lastMotivation"
   ]
  },
  {
   "cell_type": "markdown",
   "id": "0ef138b7",
   "metadata": {},
   "source": [
    "#### 3. Simulando a Fase de Grupos:"
   ]
  },
  {
   "cell_type": "code",
   "execution_count": 20,
   "id": "3cf69a90",
   "metadata": {},
   "outputs": [
    {
     "name": "stdout",
     "output_type": "stream",
     "text": [
      "Grupo A: SEN (83.29) HOL (80.51) CAT (76.13) EQU (75.96) \n",
      "Grupo B: EUA (87.56) GAL (80.92) IRA (76.03) ING (72.62) \n",
      "Grupo C: POL (77.43) MEX (75.12) ARG (73.61) ARA (73.29) \n",
      "Grupo D: DIN (85.68) TUN (81.89) FRA (81.64) AUS (75.59) \n",
      "Grupo E: ALE (89.29) JAP (81.76) COS (79.60) ESP (76.91) \n",
      "Grupo F: BEL (81.05) MAR (79.58) CAN (76.87) CRO (73.38) \n",
      "Grupo G: BRA (81.93) CAM (79.71) SUI (78.07) SER (72.12) \n",
      "Grupo H: URU (83.22) POR (75.92) GAN (72.71) COR (70.24) \n"
     ]
    }
   ],
   "source": [
    "# Mapa em que a chave será a letra do grupo e o valor as seleções (que ordenaremos pelas \"melhores\").\n",
    "bestTeamsByGroup = {}\n",
    "# Percorre o dataframe (dados do CSV) para criar nossos objetos/seleções.\n",
    "for label, content in df.items():\n",
    "    # Instanciar as 4 seleções do grupo, com seus respectivos nomes e score.\n",
    "    team1 = Team(content[0])\n",
    "    team2 = Team(content[1])\n",
    "    team3 = Team(content[2])\n",
    "    team4 = Team(content[3])\n",
    "    #  Simular os melhores do grupo com base na motivação de cada seleção.\n",
    "    #  Calculada a partir do seu ranking FIFA aliado a uma pitada de aleatoriedade.\n",
    "    bestTeamsByGroup[label] = sorted([team1, team2, team3, team4], key=Team.motivate, reverse=True)\n",
    "\n",
    "# Imprimir os grupos, ordenados pelas melhores seleções de cada (apenas 2 se classificam)\n",
    "for grupo, motivatedTeams in bestTeamsByGroup.items():\n",
    "    print(f'Grupo {grupo}: ', end=\"\")\n",
    "    for team in motivatedTeams:\n",
    "        print(f'{team.name} ({team.lastMotivation:.2f}) ', end=\"\")\n",
    "    print()"
   ]
  },
  {
   "cell_type": "markdown",
   "id": "5b0aee9b",
   "metadata": {},
   "source": [
    "#### 4. Simulando as Oitavas de Final (16 melhores seleções)"
   ]
  },
  {
   "cell_type": "code",
   "execution_count": 22,
   "id": "d4719eff",
   "metadata": {},
   "outputs": [
    {
     "name": "stdout",
     "output_type": "stream",
     "text": [
      "SEN (85.60) x GAL (81.72)\n",
      "POL (72.34) x TUN (76.88)\n",
      "ALE (81.65) x MAR (71.31)\n",
      "BRA (98.12) x POR (90.37)\n",
      "EUA (73.70) x HOL (78.31)\n",
      "DIN (74.36) x MEX (75.71)\n",
      "BEL (90.01) x JAP (70.79)\n",
      "URU (71.53) x CAM (77.81)\n"
     ]
    }
   ],
   "source": [
    "# Criando vaiáveis para as 2 melhores seleções de cada grupo:\n",
    "team1A = bestTeamsByGroup['A'][0]\n",
    "team2A = bestTeamsByGroup['A'][1]\n",
    "team1B = bestTeamsByGroup['B'][0]\n",
    "team2B = bestTeamsByGroup['B'][1]\n",
    "team1C = bestTeamsByGroup['C'][0]\n",
    "team2C = bestTeamsByGroup['C'][1]\n",
    "team1D = bestTeamsByGroup['D'][0]\n",
    "team2D = bestTeamsByGroup['D'][1]\n",
    "team1E = bestTeamsByGroup['E'][0]\n",
    "team2E = bestTeamsByGroup['E'][1]\n",
    "team1F = bestTeamsByGroup['F'][0]\n",
    "team2F = bestTeamsByGroup['F'][1]\n",
    "team1G = bestTeamsByGroup['G'][0]\n",
    "team2G = bestTeamsByGroup['G'][1]\n",
    "team1H = bestTeamsByGroup['H'][0]\n",
    "team2H = bestTeamsByGroup['H'][1]\n",
    "\n",
    "# Simular os confrontos das Oitavas de Final (randomizando novamente suas respectivas motivações).\n",
    "# Além disso, também definir os classificados para as quartas de final em novas vaiáveis:\n",
    "quarter1 = team1A if team1A.motivate() > team2B.motivate() else team2B\n",
    "quarter2 = team1C if team1C.motivate() > team2D.motivate() else team2D\n",
    "quarter3 = team1E if team1E.motivate() > team2F.motivate() else team2F\n",
    "quarter4 = team1G if team1G.motivate() > team2H.motivate() else team2H\n",
    "quarter5 = team1B if team1B.motivate() > team2A.motivate() else team2A\n",
    "quarter6 = team1D if team1D.motivate() > team2C.motivate() else team2C\n",
    "quarter7 = team1F if team1F.motivate() > team2E.motivate() else team2E\n",
    "quarter8 = team1H if team1H.motivate() > team2G.motivate() else team2G\n",
    "\n",
    "# Imprimir os \"resultados\" dos confrontos realizados nas Oitavas de Final:\n",
    "print(f'{team1A.name} ({team1A.lastMotivation:.2f}) x {team2B.name} ({team2B.lastMotivation:.2f})')\n",
    "print(f'{team1C.name} ({team1C.lastMotivation:.2f}) x {team2D.name} ({team2D.lastMotivation:.2f})')\n",
    "print(f'{team1E.name} ({team1E.lastMotivation:.2f}) x {team2F.name} ({team2F.lastMotivation:.2f})')\n",
    "print(f'{team1G.name} ({team1G.lastMotivation:.2f}) x {team2H.name} ({team2H.lastMotivation:.2f})')\n",
    "print(f'{team1B.name} ({team1B.lastMotivation:.2f}) x {team2A.name} ({team2A.lastMotivation:.2f})')\n",
    "print(f'{team1D.name} ({team1D.lastMotivation:.2f}) x {team2C.name} ({team2C.lastMotivation:.2f})')\n",
    "print(f'{team1F.name} ({team1F.lastMotivation:.2f}) x {team2E.name} ({team2E.lastMotivation:.2f})')\n",
    "print(f'{team1H.name} ({team1H.lastMotivation:.2f}) x {team2G.name} ({team2G.lastMotivation:.2f})')"
   ]
  },
  {
   "cell_type": "markdown",
   "id": "8468e72b",
   "metadata": {},
   "source": [
    "#### 5. Simulando as Quartas de Final (8 melhores seleções)"
   ]
  },
  {
   "cell_type": "code",
   "execution_count": 24,
   "id": "c2057aec",
   "metadata": {},
   "outputs": [
    {
     "name": "stdout",
     "output_type": "stream",
     "text": [
      "SEN (78.81) x TUN (70.81)\n",
      "ALE (75.34) x BRA (89.48)\n",
      "HOL (84.99) x MEX (84.18)\n",
      "BEL (88.90) x CAM (76.71)\n"
     ]
    }
   ],
   "source": [
    "# Simular os confrontos das Quartas de Final (randomizando novamente suas respectivas motivações).\n",
    "# Além disso, também definir os classificados para as semifinais em novas vaiáveis:\n",
    "semi1 = quarter1 if quarter1.motivate() > quarter2.motivate() else quarter2\n",
    "semi2 = quarter3 if quarter3.motivate() > quarter4.motivate() else quarter4\n",
    "semi3 = quarter5 if quarter5.motivate() > quarter6.motivate() else quarter6\n",
    "semi4 = quarter7 if quarter7.motivate() > quarter8.motivate() else quarter8\n",
    "\n",
    "# Imprimir os \"resultados\" dos confrontos realizados nas Quartas de Final:\n",
    "print(f'{quarter1.name} ({quarter1.lastMotivation:.2f}) x {quarter2.name} ({quarter2.lastMotivation:.2f})')\n",
    "print(f'{quarter3.name} ({quarter3.lastMotivation:.2f}) x {quarter4.name} ({quarter4.lastMotivation:.2f})')\n",
    "print(f'{quarter5.name} ({quarter5.lastMotivation:.2f}) x {quarter6.name} ({quarter6.lastMotivation:.2f})')\n",
    "print(f'{quarter7.name} ({quarter7.lastMotivation:.2f}) x {quarter8.name} ({quarter8.lastMotivation:.2f})')"
   ]
  },
  {
   "cell_type": "markdown",
   "id": "9138cf28",
   "metadata": {},
   "source": [
    "#### 6. Simulando as Semifinais (4 melhores seleções)"
   ]
  },
  {
   "cell_type": "code",
   "execution_count": 25,
   "id": "232759d3",
   "metadata": {},
   "outputs": [
    {
     "name": "stdout",
     "output_type": "stream",
     "text": [
      "SEN (83.76) x BRA (92.74)\n",
      "HOL (78.39) x BEL (74.07)\n"
     ]
    }
   ],
   "source": [
    "# Simular os confrontos das Semifinais (randomizando novamente suas respectivas motivações).\n",
    "# Além disso, também definir os classificados para a final e disputa de 3º e 4º em novas vaiáveis:\n",
    "final1 = semi1 if semi1.motivate() > semi2.motivate() else semi2\n",
    "terceiro1 = semi1 if semi1.lastMotivation < semi2.lastMotivation else semi2\n",
    "\n",
    "final2 = None\n",
    "terceiro2 = None\n",
    "if semi3.motivate() > semi4.motivate():\n",
    "  final2 = semi3\n",
    "  terceiro2 = semi4\n",
    "else:\n",
    "  final2 = semi4\n",
    "  terceiro2 = semi3\n",
    "\n",
    "# Imprimir os \"resultados\" dos confrontos realizados nas Semifinais:\n",
    "print(f'{semi1.name} ({semi1.lastMotivation:.2f}) x {semi2.name} ({semi2.lastMotivation:.2f})')\n",
    "print(f'{semi3.name} ({semi3.lastMotivation:.2f}) x {semi4.name} ({semi4.lastMotivation:.2f})')"
   ]
  },
  {
   "cell_type": "markdown",
   "id": "c3829b5a",
   "metadata": {},
   "source": [
    "#### 7. Simulando a Final (2 melhores seleções)"
   ]
  },
  {
   "cell_type": "code",
   "execution_count": 26,
   "id": "8224e7d5",
   "metadata": {},
   "outputs": [
    {
     "name": "stdout",
     "output_type": "stream",
     "text": [
      "1º: BRA (95.53) Campeão da Copa do Mundo de 2022\n",
      "2º: HOL (82.16) Vice-Campeão da Copa do Mundo de 2022\n",
      "3º: BEL (97.89)\n",
      "4º: SEN (77.35)\n"
     ]
    }
   ],
   "source": [
    "# Simular os confrontos das Finais (randomizando novamente suas respectivas motivações).\n",
    "# Além disso, também definir os 4 primeiros colocamos da Copa do Mundo de 2022:\n",
    "winner = final1 if final1.motivate() > final2.motivate() else final2\n",
    "second = final1 if final1.lastMotivation < final2.lastMotivation else final2\n",
    "third = terceiro1 if terceiro1.motivate() > terceiro2.motivate() else terceiro2\n",
    "fourth = terceiro1 if terceiro1.lastMotivation < terceiro2.lastMotivation else terceiro2\n",
    "\n",
    "# Imprimir os \"resultados\" dos confrontos realizados nas Finais:\n",
    "print(f'1º: {winner.name} ({winner.lastMotivation:.2f}) Campeão da Copa do Mundo de 2022')\n",
    "print(f'2º: {second.name} ({second.lastMotivation:.2f}) Vice-Campeão da Copa do Mundo de 2022')\n",
    "print(f'3º: {third.name} ({third.lastMotivation:.2f})')\n",
    "print(f'4º: {fourth.name} ({fourth.lastMotivation:.2f})')"
   ]
  },
  {
   "cell_type": "code",
   "execution_count": null,
   "id": "2b63862d",
   "metadata": {},
   "outputs": [],
   "source": []
  }
 ],
 "metadata": {
  "kernelspec": {
   "display_name": "Python 3 (ipykernel)",
   "language": "python",
   "name": "python3"
  },
  "language_info": {
   "codemirror_mode": {
    "name": "ipython",
    "version": 3
   },
   "file_extension": ".py",
   "mimetype": "text/x-python",
   "name": "python",
   "nbconvert_exporter": "python",
   "pygments_lexer": "ipython3",
   "version": "3.9.7"
  }
 },
 "nbformat": 4,
 "nbformat_minor": 5
}
